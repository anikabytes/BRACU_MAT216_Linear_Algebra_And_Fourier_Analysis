{
  "nbformat": 4,
  "nbformat_minor": 0,
  "metadata": {
    "colab": {
      "provenance": []
    },
    "kernelspec": {
      "name": "python3",
      "display_name": "Python 3"
    },
    "language_info": {
      "name": "python"
    }
  },
  "cells": [
    {
      "cell_type": "markdown",
      "source": [
        "\n",
        "MAT216 LAB 5\n",
        "---\n",
        "NAME : ANIKA ISLAM \n",
        "\n",
        "ID : 21101298 \n",
        "\n",
        "SECTION : 7 \n"
      ],
      "metadata": {
        "id": "wiL0Fb0RaSdu"
      }
    },
    {
      "cell_type": "markdown",
      "source": [
        "# Task 1\n",
        "Check whether the set of vectors is orthogonal or not.\n",
        "\n",
        "$$v_{1} = \\begin{bmatrix}\n",
        "  1\\\\\n",
        "  -2\\\\\n",
        "  4\\\\\n",
        "\\end{bmatrix}, \n",
        "v_{2} = \\begin{bmatrix}\n",
        "  2\\\\\n",
        "  5\\\\\n",
        "  2\\\\\n",
        "\\end{bmatrix},\n",
        "v_{3} = \\begin{bmatrix}\n",
        "  1\\\\\n",
        "  3\\\\\n",
        "  5\\\\\n",
        "\\end{bmatrix}\n",
        "$$"
      ],
      "metadata": {
        "id": "We8Ce0TsBVKb"
      }
    },
    {
      "cell_type": "code",
      "source": [
        "# Task 1 \n",
        "import numpy as np \n",
        "v1 = np.array([1,-2,4])\n",
        "v2 = np.array([2,5,2])\n",
        "v3 = np.array([1,3,5])\n",
        "if v1.dot(v2) == v2.dot(v3) == v3.dot(v1) == 0 :\n",
        "    print('{v1,v2,v3} is an orthagonal set.')\n",
        "else :\n",
        "    print('{v1,v2,v3} is not an orthagonal set.')"
      ],
      "metadata": {
        "colab": {
          "base_uri": "https://localhost:8080/"
        },
        "id": "lg49eIMrSNR-",
        "outputId": "327d561a-1344-4105-812e-8de2fa194edd"
      },
      "execution_count": null,
      "outputs": [
        {
          "output_type": "stream",
          "name": "stdout",
          "text": [
            "{v1,v2,v3} is not an orthagonal set.\n"
          ]
        }
      ]
    },
    {
      "cell_type": "markdown",
      "source": [
        "# Task 2\n",
        "Find an orthonormal basis spanned by a set of vectors:\n",
        "$$v_{1} = \\begin{bmatrix}\n",
        "  2\\\\\n",
        "  -5\\\\\n",
        "  1\\\\\n",
        "\\end{bmatrix}, \n",
        "v_{2} = \\begin{bmatrix}\n",
        "  4\\\\\n",
        "  -1\\\\\n",
        "  2\\\\\n",
        "\\end{bmatrix}$$"
      ],
      "metadata": {
        "id": "aN_ZZQUXFQ7-"
      }
    },
    {
      "cell_type": "code",
      "source": [
        "# Task 2 \n",
        "import math\n",
        "import numpy as np\n",
        "\n",
        "v1 = np.array([2,-5,1])\n",
        "v2 = np.array([4,-1,2])\n",
        "\n",
        "sum_v1 = 0 \n",
        "for i in range(len(v1)) :\n",
        "    sum_v1 += (v1[i])**2\n",
        "mod_v1 = math.sqrt(sum_v1)\n",
        "u1 = v1/mod_v1\n",
        "\n",
        "#==========================================\n",
        "\n",
        "w2 = np.zeros(len(v2))\n",
        "for i in range(len(v2)):\n",
        "    w2[i] = v2[i] - (np.dot(v2,u1)) * u1[i]\n",
        "\n",
        "sum_w2 = 0 \n",
        "for i in range(len(v1)) :\n",
        "    sum_w2 += (w2[i])**2\n",
        "mod_w2 = math.sqrt(sum_w2)\n",
        "u2 = w2/mod_w2\n",
        "\n",
        "print(\"u1\", u1)\n",
        "print(\"u2\", u2)"
      ],
      "metadata": {
        "colab": {
          "base_uri": "https://localhost:8080/"
        },
        "id": "fdw9AIP1TcVV",
        "outputId": "2188f756-f490-4c83-d79b-76af391d2b1e"
      },
      "execution_count": null,
      "outputs": [
        {
          "output_type": "stream",
          "name": "stdout",
          "text": [
            "u1 [ 0.36514837 -0.91287093  0.18257419]\n",
            "u2 [0.81649658 0.40824829 0.40824829]\n"
          ]
        }
      ]
    }
  ]
}