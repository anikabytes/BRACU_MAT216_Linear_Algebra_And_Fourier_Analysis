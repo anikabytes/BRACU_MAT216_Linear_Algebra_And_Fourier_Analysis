{
  "nbformat": 4,
  "nbformat_minor": 0,
  "metadata": {
    "colab": {
      "provenance": []
    },
    "kernelspec": {
      "name": "python3",
      "display_name": "Python 3"
    },
    "language_info": {
      "name": "python"
    }
  },
  "cells": [
    {
      "cell_type": "markdown",
      "source": [
        "\n",
        "MAT216 LAB 3\n",
        "---\n",
        "NAME : ANIKA ISLAM \n",
        "\n",
        "ID : 21101298 \n",
        "\n",
        "SECTION : 7 \n"
      ],
      "metadata": {
        "id": "wiL0Fb0RaSdu"
      }
    },
    {
      "cell_type": "markdown",
      "source": [
        "\n",
        "Find the LU decomposition and solve the equation using sympy for part A and numpy for part B: \n",
        "$ \\begin{bmatrix}\n",
        "-6 & -5 & -8 \\\\\n",
        "8 & -5 & 6 \\\\\n",
        "-2 & -8 & -3 \\\\\n",
        "\\end{bmatrix} \\begin{bmatrix}\n",
        "\\boldsymbol{x}_1 \\\\\n",
        "\\boldsymbol{x}_2 \\\\\n",
        "\\boldsymbol{x}_3 \n",
        "\\end{bmatrix} = \\begin{bmatrix}\n",
        "9\\\\\n",
        "7\\\\\n",
        "-6 \\\\\n",
        "\\end{bmatrix}\n",
        " $ \n",
        "\n"
      ],
      "metadata": {
        "id": "SqStOJWL4L7m"
      }
    },
    {
      "cell_type": "code",
      "execution_count": null,
      "metadata": {
        "colab": {
          "base_uri": "https://localhost:8080/"
        },
        "id": "PyEJOs1XVIce",
        "outputId": "4fafef4e-ff9f-422d-f088-8f4988ef3236"
      },
      "outputs": [
        {
          "output_type": "execute_result",
          "data": {
            "text/plain": [
              "⎡ 1    0   0⎤\n",
              "⎢           ⎥\n",
              "⎢-4/3  1   0⎥\n",
              "⎢           ⎥\n",
              "⎢      19   ⎥\n",
              "⎢1/3   ──  1⎥\n",
              "⎣      35   ⎦"
            ]
          },
          "metadata": {},
          "execution_count": 2
        }
      ],
      "source": [
        "# PART A \n",
        "from sympy import Matrix\n",
        "from sympy import init_printing \n",
        "A = Matrix([[-6,-5,-8],[8,-5,6],[-2,-8,-3]])\n",
        "L,U,_ = A.LUdecomposition()\n",
        "init_printing(use_latex = 'matplotlib')\n",
        "L"
      ]
    },
    {
      "cell_type": "code",
      "source": [
        "U"
      ],
      "metadata": {
        "colab": {
          "base_uri": "https://localhost:8080/"
        },
        "id": "UmHIsE0wW0No",
        "outputId": "c0162dab-334a-4ff9-9e7c-b6e29d95aa54"
      },
      "execution_count": null,
      "outputs": [
        {
          "output_type": "execute_result",
          "data": {
            "text/plain": [
              "⎡-6   -5     -8  ⎤\n",
              "⎢                ⎥\n",
              "⎢0   -35/3  -14/3⎥\n",
              "⎢                ⎥\n",
              "⎣0     0    11/5 ⎦"
            ]
          },
          "metadata": {},
          "execution_count": 2
        }
      ]
    },
    {
      "cell_type": "code",
      "source": [
        "_"
      ],
      "metadata": {
        "colab": {
          "base_uri": "https://localhost:8080/"
        },
        "id": "lVFnSLaLW2Jv",
        "outputId": "d6a61864-08b2-45df-a396-a2daa1c69652"
      },
      "execution_count": null,
      "outputs": [
        {
          "output_type": "execute_result",
          "data": {
            "text/plain": [
              "⎡-6   -5     -8  ⎤\n",
              "⎢                ⎥\n",
              "⎢0   -35/3  -14/3⎥\n",
              "⎢                ⎥\n",
              "⎣0     0    11/5 ⎦"
            ]
          },
          "metadata": {},
          "execution_count": 3
        }
      ]
    },
    {
      "cell_type": "code",
      "source": [
        "# PART B \n",
        "import numpy as np\n",
        "L = np.array([[1,0,0],[-4/3,1,0],[1/3,19/35,1]])\n",
        "U = np.array([[-6,-5,-8],[0,-35/3,-14/3],[0,0,11/5]])\n",
        "B = np.array([9,7,-6]) \n",
        "\n",
        "B_L = np.zeros(B.shape[0]) # (3,1) - > np.zeros(3) -> [0. 0. 0. ]\n",
        "print(B_L)\n",
        "# Forward Substitution [Ly = b]\n",
        "for i in range(L.shape[0]): #(3,3) -> (3) -> (0,3) -> 0,1,2\n",
        "    summation=0 \n",
        "    for j in range(L.shape[0]):  # i(row) = 2 , j(elem) = 2 -> [9. 19. 0.]\n",
        "        if i == j:\n",
        "            B_L[j] = B[j] - summation\n",
        "            B_L[j] = B_L[j]/L[i,j] \n",
        "            break\n",
        "        else:\n",
        "            summation = summation + L[i,j]*B_L[j]\n",
        "\n",
        "# Flip U and B_L [For B_l,y1,y2,y3 -> y3,y2,y1]\n",
        "print(U)\n",
        "print()\n",
        "U = np.flip(U, 0)\n",
        "print(U)\n",
        "print()\n",
        "U = np.flip(U, 1)\n",
        "print(U)\n",
        "print()\n",
        "print(B_L)\n",
        "B_L = np.flip(B_L,0)\n",
        "print(B_L)\n",
        "print()\n",
        "\n",
        "# Backward Substitution [Ux = y]\n",
        "B_LU = np.zeros(B_L.shape[0])\n",
        "for i in range(U.shape[0]):\n",
        "  summation=0\n",
        "  for j in range(U.shape[0]):\n",
        "    if i == j:\n",
        "      B_LU[j] = B_L[j] - summation\n",
        "      B_LU[j] = B_LU[j]/U[i,j]\n",
        "      break\n",
        "    else:\n",
        "      summation = summation + U[i,j]*B_LU[j]\n",
        "\n",
        "# Flip B_LU [For B_LU, x3,x2,x1 -> x1,x2,x3]\n",
        "print(np.flip(B_LU, 0))\n",
        "print()\n",
        "\n",
        "#Print the answer \n",
        "count=1\n",
        "for i in range(len(B_LU)-1, -1, -1):\n",
        "  print(\"x\"+str(count)+\":\",B_LU[i])\n",
        "  count+=1\n",
        "\n",
        "print()"
      ],
      "metadata": {
        "colab": {
          "base_uri": "https://localhost:8080/"
        },
        "id": "e5jZfWn9X8sC",
        "outputId": "e2399fac-cc5b-4bc0-ab1b-8418862ec58f"
      },
      "execution_count": null,
      "outputs": [
        {
          "output_type": "stream",
          "name": "stdout",
          "text": [
            "[0. 0. 0.]\n",
            "[[ -6.          -5.          -8.        ]\n",
            " [  0.         -11.66666667  -4.66666667]\n",
            " [  0.           0.           2.2       ]]\n",
            "\n",
            "[[  0.           0.           2.2       ]\n",
            " [  0.         -11.66666667  -4.66666667]\n",
            " [ -6.          -5.          -8.        ]]\n",
            "\n",
            "[[  2.2          0.           0.        ]\n",
            " [ -4.66666667 -11.66666667   0.        ]\n",
            " [ -8.          -5.          -6.        ]]\n",
            "\n",
            "[  9.          19.         -19.31428571]\n",
            "[-19.31428571  19.           9.        ]\n",
            "\n",
            "[ 8.63636364  1.88311688 -8.77922078]\n",
            "x1: -8.779220779220777\n",
            "\n",
            "x1: 8.636363636363635\n",
            "x2: 1.8831168831168825\n",
            "x3: -8.779220779220777\n",
            "\n"
          ]
        }
      ]
    }
  ]
}