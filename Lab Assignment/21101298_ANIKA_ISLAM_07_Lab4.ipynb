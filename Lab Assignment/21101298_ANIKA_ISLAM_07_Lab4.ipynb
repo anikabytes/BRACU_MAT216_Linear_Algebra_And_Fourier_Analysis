{
  "nbformat": 4,
  "nbformat_minor": 0,
  "metadata": {
    "colab": {
      "provenance": []
    },
    "kernelspec": {
      "name": "python3",
      "display_name": "Python 3"
    },
    "language_info": {
      "name": "python"
    }
  },
  "cells": [
    {
      "cell_type": "markdown",
      "source": [
        "\n",
        "MAT216 LAB 4\n",
        "---\n",
        "NAME : ANIKA ISLAM \n",
        "\n",
        "ID : 21101298 \n",
        "\n",
        "SECTION : 7 \n"
      ],
      "metadata": {
        "id": "wiL0Fb0RaSdu"
      }
    },
    {
      "cell_type": "markdown",
      "source": [
        "**Solve the following problem using Gauss Jordan Elimination method**\n",
        "\n",
        "Star Cineplex charges 300 taka for regular tickets and 350 taka for premium tickets. If the production sold 140 tickets for its opening night and made 45,050 taka in ticket sales, how many of each type of tickets were sold?"
      ],
      "metadata": {
        "id": "rM6d6j1fPYtU"
      }
    },
    {
      "cell_type": "code",
      "execution_count": null,
      "metadata": {
        "colab": {
          "base_uri": "https://localhost:8080/"
        },
        "id": "stqrL5aq6_Uc",
        "outputId": "0cb8bd80-12de-498f-b2d7-df4e784d6216"
      },
      "outputs": [
        {
          "output_type": "stream",
          "name": "stdout",
          "text": [
            "[[1.00e+00 0.00e+00 7.90e+01]\n",
            " [0.00e+00 5.00e+01 3.05e+03]]\n",
            "Number of regular tickets sold: 79.0\n",
            "Number of premium tickets sold: 61.0\n"
          ]
        }
      ],
      "source": [
        "from numpy import matrix, linalg\n",
        "import numpy as np\n",
        "\n",
        "a = np.array([[1.,1.,140.],[300.,350.,45050.]])\n",
        "n = len(a) #2 \n",
        "\n",
        "x = np.zeros(n) #2 -> [0. 0.]\n",
        "\n",
        "for i in range(n): #(2) -> 0 1 \n",
        "    \n",
        "    if a[i][i] == 0:\n",
        "        break\n",
        "    else :\n",
        "        for j in range(n) :  #(2) -> (0,2) -> 0, 1 -> i = 0 , j = 0 \n",
        "            if i == j : # i = 0 , j = 0 and i = 1 , j = 1 \n",
        "                continue \n",
        "            else : # i = 0 , j = 1 || i=1,j=0\n",
        "                idx = a[j][i] / a[i][i] # idx = 300 || idx = 1/350\n",
        "\n",
        "                for k in range(n+1) : (3) -> (0,1,2)  # i= 0, j=1 ,k=0 || i=0 , j=1 , k=1 || i=1 , j=0 , k=2 || i= 1, j=0 ,k=0 || i=1 , j=0 , k=1 || i=1 , j=0 , k=2\n",
        "                    # R2 -> R2 - 7R1\n",
        "                    a[j][k] = a[j][k] - (a[i][k]*idx) # 0 [[1 1 140],[0 350 45050]] || 50 [[1 1 140],[0 50 3050]]\n",
        "\n",
        "print(a)  [[1/7 0 79/7],[0 50 3050]]\n",
        "for i in range(n): (2) -> (0,1)\n",
        "    x[i] = a[i][n]/a[i][i] # [0. 0.] -> [79. 61.]\n",
        "    \n",
        "\n",
        "# Output\n",
        "print('Number of regular tickets sold:',x[0])\n",
        "print('Number of premium tickets sold:',x[1])"
      ]
    }
  ]
}