{
  "nbformat": 4,
  "nbformat_minor": 0,
  "metadata": {
    "colab": {
      "name": "Lab_1_Introduction_to_Python.ipynb",
      "provenance": []
    },
    "kernelspec": {
      "name": "python3",
      "display_name": "Python 3"
    },
    "language_info": {
      "name": "python"
    }
  },
  "cells": [
    {
      "cell_type": "markdown",
      "source": [
        "# **Introduction to Python**\n",
        "\n",
        "\n",
        "Python is a very popular programming language which can be used to handle very large volumes of data and even handles very complex mathematic operations. In today's class, we would hope to go through th basic syntax of Python 3. To know more about the importance of python, you may click [here](https://onecompiler.com/tutorials/python/basics/introduction).\n",
        "\n"
      ],
      "metadata": {
        "id": "EelVx-Np7Cck"
      }
    },
    {
      "cell_type": "markdown",
      "source": [
        "## Variables"
      ],
      "metadata": {
        "id": "hSKlEFaBUGfP"
      }
    },
    {
      "cell_type": "code",
      "source": [
        "a = 1       # integer\n",
        "b = 1.1     # float or double\n",
        "c = 1 + 2j  # complex number (a + bi)\n",
        "d = \"a\"     # string\n",
        "e = True    # boolean (True / False)"
      ],
      "metadata": {
        "id": "KKIUUQLRG5Wv"
      },
      "execution_count": null,
      "outputs": []
    },
    {
      "cell_type": "code",
      "source": [
        "print(a)\n",
        "print(b)\n",
        "print(c)\n",
        "print(d)\n",
        "print(e)\n",
        "print(type(a))"
      ],
      "metadata": {
        "colab": {
          "base_uri": "https://localhost:8080/"
        },
        "id": "SWjJ0nPEA-J5",
        "outputId": "25d6f837-0124-4900-d34b-c90dab7c4f0f"
      },
      "execution_count": null,
      "outputs": [
        {
          "output_type": "stream",
          "name": "stdout",
          "text": [
            "1\n",
            "1.1\n",
            "(1+2j)\n",
            "a\n",
            "True\n",
            "<class 'int'>\n"
          ]
        }
      ]
    },
    {
      "cell_type": "markdown",
      "source": [
        "##Type Conversion"
      ],
      "metadata": {
        "id": "qx7OO8DQV8Tn"
      }
    },
    {
      "cell_type": "code",
      "source": [
        "print(int(b))\n",
        "print(float(a))"
      ],
      "metadata": {
        "colab": {
          "base_uri": "https://localhost:8080/"
        },
        "id": "YhoS8oecV5QU",
        "outputId": "0b13676a-29fd-472f-f133-a9b62b0f083f"
      },
      "execution_count": null,
      "outputs": [
        {
          "output_type": "stream",
          "name": "stdout",
          "text": [
            "1\n",
            "1.0\n"
          ]
        }
      ]
    },
    {
      "cell_type": "markdown",
      "source": [
        "## Strings"
      ],
      "metadata": {
        "id": "SHJ5qyhMU6dK"
      }
    },
    {
      "cell_type": "code",
      "source": [
        "x = \"Python\"\n",
        "print(x[0])\n",
        "print(x[-1])\n",
        "print(x[0:3])"
      ],
      "metadata": {
        "colab": {
          "base_uri": "https://localhost:8080/"
        },
        "id": "loqhH_urU9RU",
        "outputId": "d3667394-ac6b-40c4-e1f3-837ba285f13d"
      },
      "execution_count": null,
      "outputs": [
        {
          "output_type": "stream",
          "name": "stdout",
          "text": [
            "P\n",
            "n\n",
            "Pyt\n"
          ]
        }
      ]
    },
    {
      "cell_type": "code",
      "source": [
        "print(len(x))\n",
        "print(x.upper())\n",
        "print(x.find(\"a\"))\n",
        "print(x.find(\"y\"))"
      ],
      "metadata": {
        "colab": {
          "base_uri": "https://localhost:8080/"
        },
        "id": "NXYeilQNVW1z",
        "outputId": "c5326ef4-66d3-4d07-cef8-2037052b2c87"
      },
      "execution_count": null,
      "outputs": [
        {
          "output_type": "stream",
          "name": "stdout",
          "text": [
            "6\n",
            "PYTHON\n",
            "-1\n",
            "1\n"
          ]
        }
      ]
    },
    {
      "cell_type": "markdown",
      "source": [
        "##Conditional Statements"
      ],
      "metadata": {
        "id": "svybvWy0W6ey"
      }
    },
    {
      "cell_type": "code",
      "source": [
        "g=4\n",
        "\n",
        "if g==0:\n",
        "  print(\"Zero\")\n",
        "elif g>0:\n",
        "  print(\"Positive\")\n",
        "else:\n",
        "  print (\"Negative\")"
      ],
      "metadata": {
        "colab": {
          "base_uri": "https://localhost:8080/"
        },
        "id": "EeNdUwFTW74H",
        "outputId": "c61827a1-8957-4392-efbf-a53e69edbc67"
      },
      "execution_count": null,
      "outputs": [
        {
          "output_type": "stream",
          "name": "stdout",
          "text": [
            "Positive\n"
          ]
        }
      ]
    },
    {
      "cell_type": "markdown",
      "source": [
        "##Loops"
      ],
      "metadata": {
        "id": "fSr4ofGJX7Yc"
      }
    },
    {
      "cell_type": "markdown",
      "source": [
        "###For Loop"
      ],
      "metadata": {
        "id": "Xt2947NUYCVr"
      }
    },
    {
      "cell_type": "code",
      "source": [
        "for n in range(1, 10): \n",
        "    print(n)"
      ],
      "metadata": {
        "colab": {
          "base_uri": "https://localhost:8080/"
        },
        "id": "DzGUJFKzYAg6",
        "outputId": "e71c3f83-8d8e-4aed-fbff-8a0a4b1c2b46"
      },
      "execution_count": null,
      "outputs": [
        {
          "output_type": "stream",
          "name": "stdout",
          "text": [
            "1\n",
            "2\n",
            "3\n",
            "4\n",
            "5\n",
            "6\n",
            "7\n",
            "8\n",
            "9\n"
          ]
        }
      ]
    },
    {
      "cell_type": "code",
      "source": [
        "for n in range(1, 10,2): \n",
        "    print(n)"
      ],
      "metadata": {
        "colab": {
          "base_uri": "https://localhost:8080/"
        },
        "id": "goPfr2aAYF8c",
        "outputId": "f447a1fd-06fa-409c-b34f-411883c29345"
      },
      "execution_count": null,
      "outputs": [
        {
          "output_type": "stream",
          "name": "stdout",
          "text": [
            "1\n",
            "3\n",
            "5\n",
            "7\n",
            "9\n"
          ]
        }
      ]
    },
    {
      "cell_type": "code",
      "source": [
        "for n in range(10, 1,-1): \n",
        "    print(n)"
      ],
      "metadata": {
        "colab": {
          "base_uri": "https://localhost:8080/"
        },
        "id": "TfCzrC45ajpi",
        "outputId": "59ff7485-9fac-4635-e0b6-97e0da0c43d9"
      },
      "execution_count": null,
      "outputs": [
        {
          "output_type": "stream",
          "name": "stdout",
          "text": [
            "10\n",
            "9\n",
            "8\n",
            "7\n",
            "6\n",
            "5\n",
            "4\n",
            "3\n",
            "2\n"
          ]
        }
      ]
    },
    {
      "cell_type": "markdown",
      "source": [
        "###While Loop"
      ],
      "metadata": {
        "id": "Qp5qBmN4aqU9"
      }
    },
    {
      "cell_type": "code",
      "source": [
        "n=0\n",
        "while n < 10: \n",
        "    print(n)\n",
        "    n += 1"
      ],
      "metadata": {
        "colab": {
          "base_uri": "https://localhost:8080/"
        },
        "id": "clFohPSIatft",
        "outputId": "2457d957-2167-431c-f058-5579f2edb491"
      },
      "execution_count": null,
      "outputs": [
        {
          "output_type": "stream",
          "name": "stdout",
          "text": [
            "0\n",
            "1\n",
            "2\n",
            "3\n",
            "4\n",
            "5\n",
            "6\n",
            "7\n",
            "8\n",
            "9\n"
          ]
        }
      ]
    },
    {
      "cell_type": "markdown",
      "source": [
        "##Functions and Taking input"
      ],
      "metadata": {
        "id": "79ewwnuLbI_2"
      }
    },
    {
      "cell_type": "code",
      "source": [
        "def increment(number, inc): \n",
        "   result=number + inc  \n",
        "   return result\n",
        " \n",
        "# Keyword arguments\n",
        " \n",
        "inputnumber=int(input(\"Please enter a number: \"))\n",
        "\n",
        "print(increment(inputnumber, 1))"
      ],
      "metadata": {
        "colab": {
          "base_uri": "https://localhost:8080/"
        },
        "id": "HGOrTe6CbGML",
        "outputId": "f7956e76-25a5-4230-c86d-4857a33b5088"
      },
      "execution_count": null,
      "outputs": [
        {
          "output_type": "stream",
          "name": "stdout",
          "text": [
            "Please enter a number: 45\n",
            "46\n"
          ]
        }
      ]
    },
    {
      "cell_type": "markdown",
      "source": [
        "##Lists (For more information click [here](https://www.w3schools.com/python/python_lists.asp))"
      ],
      "metadata": {
        "id": "7_oOFdBycRGC"
      }
    },
    {
      "cell_type": "code",
      "source": [
        "letters = [\"a\", \"b\", \"c\"] \n",
        "\n",
        "print(letters[0:3])   # \"a\", \"b\", \"c\"\n",
        "print(letters[:3] )   # \"a\", \"b\", \"c\"\n",
        "print(letters[0:])    # \"a\", \"b\", \"c\", \"d\"\n",
        "print(letters[:])     # \"a\", \"b\", \"c\", \"d\"\n",
        "print(letters[::2])   # \"a\", \"c\"\n",
        "print(letters[::-1])  # \"d\", \"c\", \"b\", \"a\" "
      ],
      "metadata": {
        "colab": {
          "base_uri": "https://localhost:8080/"
        },
        "id": "k7_UrqJKdHsM",
        "outputId": "3b7ee47d-8b2c-442b-9f57-339b0d40e617"
      },
      "execution_count": null,
      "outputs": [
        {
          "output_type": "stream",
          "name": "stdout",
          "text": [
            "['a', 'b', 'c']\n",
            "['a', 'b', 'c']\n",
            "['a', 'b', 'c']\n",
            "['a', 'b', 'c']\n",
            "['a', 'c']\n",
            "['c', 'b', 'a']\n"
          ]
        }
      ]
    },
    {
      "cell_type": "markdown",
      "source": [
        "##Tuples (For more information click [here](https://www.w3schools.com/python/python_tuples.asp))"
      ],
      "metadata": {
        "id": "6_TE9PJYfn7I"
      }
    },
    {
      "cell_type": "code",
      "source": [
        "thistuple = (\"apple\", \"banana\", \"cherry\")\n",
        "print(thistuple)\n",
        "print(thistuple[1])"
      ],
      "metadata": {
        "colab": {
          "base_uri": "https://localhost:8080/"
        },
        "id": "L92PoYyddLL5",
        "outputId": "b36cf6d1-3fcb-42e1-be21-db03983f10c1"
      },
      "execution_count": null,
      "outputs": [
        {
          "output_type": "stream",
          "name": "stdout",
          "text": [
            "('apple', 'banana', 'cherry')\n",
            "banana\n"
          ]
        }
      ]
    },
    {
      "cell_type": "markdown",
      "source": [
        "##Set (For more information click [here](https://www.w3schools.com/python/python_sets.asp))"
      ],
      "metadata": {
        "id": "9eP4kibThtfc"
      }
    },
    {
      "cell_type": "code",
      "source": [
        "thisset = {\"apple\", \"banana\", \"cherry\"}\n",
        "print(thisset)"
      ],
      "metadata": {
        "colab": {
          "base_uri": "https://localhost:8080/"
        },
        "id": "CEnATDaghifK",
        "outputId": "e5b0904a-fa02-48c1-c940-16de325ffe33"
      },
      "execution_count": null,
      "outputs": [
        {
          "output_type": "stream",
          "name": "stdout",
          "text": [
            "{'banana', 'apple', 'cherry'}\n"
          ]
        }
      ]
    },
    {
      "cell_type": "markdown",
      "source": [
        "##Dictionary (For more information click [here](https://www.w3schools.com/python/python_dictionaries.asp))"
      ],
      "metadata": {
        "id": "tYCSg3UKhrZl"
      }
    },
    {
      "cell_type": "code",
      "source": [
        "thisdict = {\n",
        "  \"brand\": \"Ford\",\n",
        "  \"model\": \"Mustang\",\n",
        "  \"year\": 1964\n",
        "}\n",
        "print(thisdict)\n",
        "print(thisdict[\"brand\"])"
      ],
      "metadata": {
        "colab": {
          "base_uri": "https://localhost:8080/"
        },
        "id": "IjzfnbJZh875",
        "outputId": "7a78660f-a080-4929-e907-8c8de4353064"
      },
      "execution_count": null,
      "outputs": [
        {
          "output_type": "stream",
          "name": "stdout",
          "text": [
            "{'brand': 'Ford', 'model': 'Mustang', 'year': 1964}\n",
            "Ford\n"
          ]
        }
      ]
    },
    {
      "cell_type": "markdown",
      "source": [
        "##NumPy Creating Arrays (For more information click [here](https://www.w3schools.com/python/numpy/numpy_creating_arrays.asp))\n",
        "\n"
      ],
      "metadata": {
        "id": "23v2f8oXicH1"
      }
    },
    {
      "cell_type": "code",
      "source": [
        "import numpy as np\n",
        "\n",
        "arr = np.array([1, 2, 3, 4, 5])\n",
        "\n",
        "print(arr)\n",
        "\n",
        "print(type(arr))"
      ],
      "metadata": {
        "colab": {
          "base_uri": "https://localhost:8080/"
        },
        "id": "V0GE84vBjsZR",
        "outputId": "8312b5f4-c781-48fd-eb70-9ccc7048528c"
      },
      "execution_count": null,
      "outputs": [
        {
          "output_type": "stream",
          "name": "stdout",
          "text": [
            "[1 2 3 4 5]\n",
            "<class 'numpy.ndarray'>\n"
          ]
        }
      ]
    },
    {
      "cell_type": "markdown",
      "source": [
        "##Learning Materials\n",
        "\n",
        "\n",
        "To learn more about python, you may check these websites:\n",
        "\n",
        "*   [programmingwithmosh](https://programmingwithmosh.com/python/python-3-cheat-sheet/)\n",
        "*   [OneCompiler](https://onecompiler.com/tutorials/python/)\n",
        "*   [W3Schools](https://www.w3schools.com/python/)\n",
        "\n",
        "\n",
        "You may also watch these videos:\n",
        "\n",
        "*   [Python Basics Part 1](https://youtu.be/kNFjiQRUV9M)\n",
        "* [Python Basics Part 2](https://youtu.be/i4bMTf6xUaA)\n",
        "* [Python Basics Part 3](https://youtu.be/DriXZP7QytM)\n",
        "* [Python Basics Part 4](https://youtu.be/vGu_DHyK8DI)\n",
        "\n",
        "\n",
        "\n",
        "\n",
        "\n",
        "\n",
        "\n",
        "\n"
      ],
      "metadata": {
        "id": "bNSThKR6kPnV"
      }
    }
  ]
}