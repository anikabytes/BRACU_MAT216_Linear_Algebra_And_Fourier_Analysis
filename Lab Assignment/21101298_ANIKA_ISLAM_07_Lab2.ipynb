{
 "cells": [
  {
   "cell_type": "markdown",
   "metadata": {
    "id": "wiL0Fb0RaSdu"
   },
   "source": [
    "\n",
    "MAT216 LAB 2 \n",
    "---\n",
    "NAME : ANIKA ISLAM \n",
    "\n",
    "ID : 21101298 \n",
    "\n",
    "SECTION : 7 \n"
   ]
  },
  {
   "cell_type": "code",
   "execution_count": 16,
   "metadata": {
    "colab": {
     "base_uri": "https://localhost:8080/"
    },
    "id": "6Qw3sSENcVPv",
    "outputId": "5ef8859f-13d2-459f-e9ab-0826495eb93b"
   },
   "outputs": [
    {
     "name": "stdout",
     "output_type": "stream",
     "text": [
      "[[3 3 3 3 7 3]\n",
      " [4 7 5 3 2 4]\n",
      " [7 3 6 4 4 6]\n",
      " [5 5 2 2 4 6]\n",
      " [1 2 4 2 5 5]\n",
      " [5 5 5 3 5 3]]\n"
     ]
    }
   ],
   "source": [
    "# 1(a)\n",
    "import numpy as np \n",
    "A = np.array([[2,1,3,2,5,2],[2,4,3,1,1,2],[4,2,3,1,1,2],[1,2,2,0,4,4],[0,1,3,1,1,1],[3,3,4,2,3,2]])\n",
    "B = np.array([[1,2,0,1,2,1],[2,3,2,2,1,2],[3,1,3,3,3,4],[4,3,0,2,0,2],[1,1,1,1,4,4],[2,2,1,1,2,1]])\n",
    "print(A+B)"
   ]
  },
  {
   "cell_type": "code",
   "execution_count": 17,
   "metadata": {
    "colab": {
     "base_uri": "https://localhost:8080/"
    },
    "id": "MGV2JfW_chYq",
    "outputId": "f8b162b1-3643-4704-b049-fb9562455f40"
   },
   "outputs": [
    {
     "name": "stdout",
     "output_type": "stream",
     "text": [
      "[[ 1 -1  3  1  3  1]\n",
      " [ 0  1  1 -1  0  0]\n",
      " [ 1  1  0 -2 -2 -2]\n",
      " [-3 -1  2 -2  4  2]\n",
      " [-1  0  2  0 -3 -3]\n",
      " [ 1  1  3  1  1  1]]\n"
     ]
    }
   ],
   "source": [
    "# 1(b)\n",
    "print(A-B)"
   ]
  },
  {
   "cell_type": "code",
   "execution_count": 18,
   "metadata": {
    "colab": {
     "base_uri": "https://localhost:8080/"
    },
    "id": "V4OiPg4xcj4E",
    "outputId": "d4b4f626-3d66-4e49-9823-718e6ac81e33"
   },
   "outputs": [
    {
     "name": "stdout",
     "output_type": "stream",
     "text": [
      "[[ 4  2  6  4 10  4]\n",
      " [ 4  8  6  2  2  4]\n",
      " [ 8  4  6  2  2  4]\n",
      " [ 2  4  4  0  8  8]\n",
      " [ 0  2  6  2  2  2]\n",
      " [ 6  6  8  4  6  4]]\n"
     ]
    }
   ],
   "source": [
    "# 1(c)\n",
    "print(2*A)"
   ]
  },
  {
   "cell_type": "code",
   "execution_count": 19,
   "metadata": {
    "colab": {
     "base_uri": "https://localhost:8080/"
    },
    "id": "6TQL-QZrcl_d",
    "outputId": "f9971bf6-0179-4402-aac1-59c9e410ab18"
   },
   "outputs": [
    {
     "name": "stdout",
     "output_type": "stream",
     "text": [
      "[[ 3  0  6  3  8  3]\n",
      " [ 2  5  4  0  1  2]\n",
      " [ 5  3  3 -1 -1  0]\n",
      " [-2  1  4 -2  8  6]\n",
      " [-1  1  5  1 -2 -2]\n",
      " [ 4  4  7  3  4  3]]\n"
     ]
    }
   ],
   "source": [
    "# 1(d)\n",
    "print((2*A)-B)"
   ]
  },
  {
   "cell_type": "code",
   "execution_count": 20,
   "metadata": {
    "colab": {
     "base_uri": "https://localhost:8080/"
    },
    "id": "xtFyYy4wcoGk",
    "outputId": "29821014-2ec1-435c-f0eb-83dd5800b3ba"
   },
   "outputs": [
    {
     "name": "stdout",
     "output_type": "stream",
     "text": [
      "[[2.  2.5 1.5 2.  4.5 2. ]\n",
      " [3.  5.  3.5 2.5 1.5 3. ]\n",
      " [5.  2.  4.5 3.5 3.5 5. ]\n",
      " [4.5 4.  1.  2.  2.  4. ]\n",
      " [1.  1.5 2.5 1.5 4.5 4.5]\n",
      " [3.5 3.5 3.  2.  3.5 2. ]]\n"
     ]
    }
   ],
   "source": [
    "# 1(d)\n",
    "print(B+(0.5*A))"
   ]
  },
  {
   "cell_type": "code",
   "execution_count": 26,
   "metadata": {
    "colab": {
     "base_uri": "https://localhost:8080/"
    },
    "id": "2btdkl7Addle",
    "outputId": "d398bffb-a45e-4017-a94a-e39117cd5b35",
    "scrolled": true
   },
   "outputs": [
    {
     "name": "stdout",
     "output_type": "stream",
     "text": [
      "[[-4]\n",
      " [-5]]\n"
     ]
    }
   ],
   "source": [
    "# 2(a)\n",
    "A = np.array([[4],[-5]])\n",
    "deg = np.array([[-1],[1]])\n",
    "print(A*deg)"
   ]
  },
  {
   "cell_type": "code",
   "execution_count": 27,
   "metadata": {
    "colab": {
     "base_uri": "https://localhost:8080/"
    },
    "id": "-0vWyAglfYHr",
    "outputId": "f28877f3-67fc-48b3-d1f7-d1b7378fd49f"
   },
   "outputs": [
    {
     "name": "stdout",
     "output_type": "stream",
     "text": [
      "[[-4]\n",
      " [ 5]]\n"
     ]
    }
   ],
   "source": [
    "# 2(b)\n",
    "deg = np.array([[-1],[-1]])\n",
    "print(A*deg)"
   ]
  },
  {
   "cell_type": "code",
   "execution_count": 28,
   "metadata": {
    "colab": {
     "base_uri": "https://localhost:8080/"
    },
    "id": "xZLc7Kyvfr_O",
    "outputId": "0a737a0c-ace5-4d3e-dab6-a42ce673a504"
   },
   "outputs": [
    {
     "name": "stdout",
     "output_type": "stream",
     "text": [
      "[[4]\n",
      " [5]]\n"
     ]
    }
   ],
   "source": [
    "# 2(c)\n",
    "deg = np.array([[1],[-1]])\n",
    "print(A*deg)"
   ]
  },
  {
   "cell_type": "code",
   "execution_count": 51,
   "metadata": {
    "colab": {
     "base_uri": "https://localhost:8080/",
     "height": 283
    },
    "id": "fGPSSotukqpp",
    "outputId": "68c30aea-d6f6-4ae0-c829-ec78895fc042"
   },
   "outputs": [
    {
     "data": {
      "image/png": "[encoded data removed]",
      "text/plain": [
       "<Figure size 432x288 with 1 Axes>"
      ]
     },
     "metadata": {
      "needs_background": "light"
     },
     "output_type": "display_data"
    },
    {
     "name": "stdout",
     "output_type": "stream",
     "text": [
      "equation is linear\n"
     ]
    }
   ],
   "source": [
    "# 3(a)\n",
    "import matplotlib.pyplot as plt \n",
    "x = np.array(range(10))\n",
    "y = ((2*x)-4)/3\n",
    "plt.plot(x,y)\n",
    "plt.show()"
   ]
  },
  {
   "cell_type": "code",
   "execution_count": 62,
   "metadata": {
    "colab": {
     "base_uri": "https://localhost:8080/",
     "height": 302
    },
    "id": "wAQVoH6inJ2d",
    "outputId": "61196ac1-ef3d-491e-b9a7-6491977036ba"
   },
   "outputs": [
    {
     "name": "stderr",
     "output_type": "stream",
     "text": [
      "/usr/local/lib/python3.7/dist-packages/ipykernel_launcher.py:2: RuntimeWarning: invalid value encountered in true_divide\n",
      "  \n"
     ]
    },
    {
     "data": {
      "image/png": "[encoded data removed]",
      "text/plain": [
       "<Figure size 432x288 with 1 Axes>"
      ]
     },
     "metadata": {
      "needs_background": "light"
     },
     "output_type": "display_data"
    }
   ],
   "source": [
    "# 3(b)\n",
    "y = (3*x)/(4*x)\n",
    "plt.plot(x,y)\n",
    "plt.show()"
   ]
  },
  {
   "cell_type": "code",
   "execution_count": 61,
   "metadata": {
    "colab": {
     "base_uri": "https://localhost:8080/",
     "height": 301
    },
    "id": "lOJKMSm-o2qw",
    "outputId": "c1e86c35-4806-44a0-8487-7d65ca46d6ca"
   },
   "outputs": [
    {
     "name": "stderr",
     "output_type": "stream",
     "text": [
      "/usr/local/lib/python3.7/dist-packages/ipykernel_launcher.py:2: RuntimeWarning: divide by zero encountered in true_divide\n",
      "  \n"
     ]
    },
    {
     "data": {
      "image/png": "[encoded data removed]",
      "text/plain": [
       "<Figure size 432x288 with 1 Axes>"
      ]
     },
     "metadata": {
      "needs_background": "light"
     },
     "output_type": "display_data"
    }
   ],
   "source": [
    "# 3(c)\n",
    "y = (-3)/((2/x)-1)\n",
    "plt.plot(x,y)\n",
    "plt.show()"
   ]
  },
  {
   "cell_type": "code",
   "execution_count": 60,
   "metadata": {
    "colab": {
     "base_uri": "https://localhost:8080/",
     "height": 301
    },
    "id": "Gr9f3hIdpwRs",
    "outputId": "613293ca-0cdc-4ec5-cde8-b5c391a8ca99"
   },
   "outputs": [
    {
     "name": "stderr",
     "output_type": "stream",
     "text": [
      "/usr/local/lib/python3.7/dist-packages/ipykernel_launcher.py:3: RuntimeWarning: invalid value encountered in power\n",
      "  This is separate from the ipykernel package so we can avoid doing imports until\n"
     ]
    },
    {
     "data": {
      "image/png": "[encoded data removed]",
      "text/plain": [
       "<Figure size 432x288 with 1 Axes>"
      ]
     },
     "metadata": {
      "needs_background": "light"
     },
     "output_type": "display_data"
    }
   ],
   "source": [
    "# 3(d)\n",
    "y = (4 - x**2)**(1/2)\n",
    "plt.plot(x,y)\n",
    "plt.show()"
   ]
  },
  {
   "cell_type": "code",
   "execution_count": 68,
   "metadata": {
    "colab": {
     "base_uri": "https://localhost:8080/",
     "height": 283
    },
    "id": "GahtfhQRqYJU",
    "outputId": "99e98737-673f-4478-a5fc-17a95d8f1559",
    "scrolled": true
   },
   "outputs": [
    {
     "data": {
      "image/png": "[encoded data removed]",
      "text/plain": [
       "<Figure size 432x288 with 1 Axes>"
      ]
     },
     "metadata": {
      "needs_background": "light"
     },
     "output_type": "display_data"
    },
    {
     "name": "stdout",
     "output_type": "stream",
     "text": [
      "Inconsistent\n"
     ]
    }
   ],
   "source": [
    "# 4(a)\n",
    "x1 = np.array(range(10))\n",
    "x2 = np.array(range(10))\n",
    "y1 = -3*x1 - 3 \n",
    "y2 = (14-6*x2)/2\n",
    "plt.plot(x1,y1)\n",
    "plt.plot(x2,y2)\n",
    "plt.show()\n",
    "print('Inconsistent')"
   ]
  },
  {
   "cell_type": "code",
   "execution_count": 69,
   "metadata": {
    "colab": {
     "base_uri": "https://localhost:8080/",
     "height": 283
    },
    "id": "_8FMSlspw1a8",
    "outputId": "302fc101-5caa-4028-e31d-ecd9a32ab3f3"
   },
   "outputs": [
    {
     "data": {
      "image/png": "[encoded data removed]",
      "text/plain": [
       "<Figure size 432x288 with 1 Axes>"
      ]
     },
     "metadata": {
      "needs_background": "light"
     },
     "output_type": "display_data"
    },
    {
     "name": "stdout",
     "output_type": "stream",
     "text": [
      "Inconsistent\n"
     ]
    }
   ],
   "source": [
    "# 4(b)\n",
    "y1 = (4*x1-3)/5\n",
    "y2 = (8*x2+14)/10\n",
    "plt.plot(x1,y1)\n",
    "plt.plot(x2,y2)\n",
    "plt.show()\n",
    "print('Inconsistent')"
   ]
  },
  {
   "cell_type": "code",
   "execution_count": 71,
   "metadata": {
    "colab": {
     "base_uri": "https://localhost:8080/",
     "height": 283
    },
    "id": "MwdBPzlyxW-k",
    "outputId": "b979243a-84e3-4e11-f5b9-da9327544866"
   },
   "outputs": [
    {
     "data": {
      "image/png": "[encoded data removed]",
      "text/plain": [
       "<Figure size 432x288 with 1 Axes>"
      ]
     },
     "metadata": {
      "needs_background": "light"
     },
     "output_type": "display_data"
    },
    {
     "name": "stdout",
     "output_type": "stream",
     "text": [
      "Consistent\n"
     ]
    }
   ],
   "source": [
    "# 4(c)\n",
    "y1 = (2*x1-3)/8\n",
    "y2 = -0.5*x2\n",
    "plt.plot(x1,y1)\n",
    "plt.plot(x2,y2)\n",
    "plt.show()\n",
    "print('Consistent')"
   ]
  },
  {
   "cell_type": "code",
   "execution_count": 75,
   "metadata": {
    "colab": {
     "base_uri": "https://localhost:8080/",
     "height": 284
    },
    "id": "umT0kPsDxjqN",
    "outputId": "2613e5f3-16c9-4c20-b62b-98a84242b2a5"
   },
   "outputs": [
    {
     "data": {
      "image/png": "[encoded data removed]",
      "text/plain": [
       "<Figure size 432x288 with 1 Axes>"
      ]
     },
     "metadata": {
      "needs_background": "light"
     },
     "output_type": "display_data"
    },
    {
     "name": "stdout",
     "output_type": "stream",
     "text": [
      "Consistent\n"
     ]
    }
   ],
   "source": [
    "# 4(d)\n",
    "y1 = (9*x1-5)/4\n",
    "y2 = 3*(-0.5*x2)\n",
    "plt.plot(x1,y1)\n",
    "plt.plot(x2,y2)\n",
    "plt.show()\n",
    "print('Consistent')"
   ]
  },
  {
   "cell_type": "code",
   "execution_count": 77,
   "metadata": {
    "colab": {
     "base_uri": "https://localhost:8080/",
     "height": 283
    },
    "id": "gDOoSpl_z3mm",
    "outputId": "f3a67c03-d55d-4226-b3b9-fd8171fd7267"
   },
   "outputs": [
    {
     "data": {
      "image/png": "[encoded data removed]",
      "text/plain": [
       "<Figure size 432x288 with 1 Axes>"
      ]
     },
     "metadata": {
      "needs_background": "light"
     },
     "output_type": "display_data"
    },
    {
     "name": "stdout",
     "output_type": "stream",
     "text": [
      "Consistent\n"
     ]
    }
   ],
   "source": [
    "# 4(e)\n",
    "y1 = (4*x1-9)/8\n",
    "y2 = (0.8*x2-1.8)/1.6\n",
    "plt.plot(x1,y1)\n",
    "plt.plot(x2,y2)\n",
    "plt.show()\n",
    "print('Consistent')"
   ]
  },
  {
   "cell_type": "code",
   "execution_count": 79,
   "metadata": {
    "colab": {
     "base_uri": "https://localhost:8080/",
     "height": 283
    },
    "id": "VpBs2ZNL0HY0",
    "outputId": "6f342fd4-bbee-4a81-e10d-dc27d26ce274"
   },
   "outputs": [
    {
     "data": {
      "image/png": "[encoded data removed]",
      "text/plain": [
       "<Figure size 432x288 with 1 Axes>"
      ]
     },
     "metadata": {
      "needs_background": "light"
     },
     "output_type": "display_data"
    },
    {
     "name": "stdout",
     "output_type": "stream",
     "text": [
      "Consistent\n"
     ]
    }
   ],
   "source": [
    "# 4(f)\n",
    "y1 = (1.25+5.3*x1)/2.1\n",
    "y2 = (3.75+15.9*x2)/6.3\n",
    "plt.plot(x1,y1)\n",
    "plt.plot(x2,y2)\n",
    "plt.show()\n",
    "print('Consistent')"
   ]
  },
  {
   "cell_type": "code",
   "execution_count": 80,
   "metadata": {
    "colab": {
     "base_uri": "https://localhost:8080/"
    },
    "id": "XJaN75s91xsI",
    "outputId": "d7cd2eb6-59ed-4a62-8a08-2e65ad36fc30"
   },
   "outputs": [
    {
     "name": "stdout",
     "output_type": "stream",
     "text": [
      "[-1.11022302e-16  4.00000000e+00 -2.00000000e+00]\n"
     ]
    }
   ],
   "source": [
    "# 5(a)\n",
    "A = np.array([[1,1,1], [-1,3,2], [4,1,0]])\n",
    "B = np.array([2,8,4])\n",
    "X = np.linalg.inv(A).dot(B)\n",
    "print(X)"
   ]
  },
  {
   "cell_type": "code",
   "execution_count": 81,
   "metadata": {
    "colab": {
     "base_uri": "https://localhost:8080/"
    },
    "id": "l3pnvwVX2Tdg",
    "outputId": "ac043965-f511-4d1d-f091-f4ec51035ea2"
   },
   "outputs": [
    {
     "name": "stdout",
     "output_type": "stream",
     "text": [
      "[-15.  40.  45. -75.]\n"
     ]
    }
   ],
   "source": [
    "# 5(b)\n",
    "A = np.array([[1,0.5,0.33,0.25], [0.25,0.2,0.17,0.14], [0.33,0.25,0.2,0.17],[0.5,0.33,0.25,0.21]])\n",
    "B = np.array([1.1,1.4,1.3,1.2])\n",
    "X = np.linalg.inv(A).dot(B)\n",
    "print(X)"
   ]
  },
  {
   "cell_type": "code",
   "execution_count": 82,
   "metadata": {
    "colab": {
     "base_uri": "https://localhost:8080/"
    },
    "id": "tzhZ_HUm2n4N",
    "outputId": "a5c915da-4831-46c8-fc40-82701d583507"
   },
   "outputs": [
    {
     "name": "stdout",
     "output_type": "stream",
     "text": [
      "[-8.413273   18.35897436 37.62292609 23.72850679]\n"
     ]
    }
   ],
   "source": [
    "# 5(c)\n",
    "A = np.array([[1.6,1.2,3.2,0.6], [0.4,3.2,1.6,1.4], [2.4,1.5,1.8,0.25],[0.1,2.5,1.2,0.75]])\n",
    "B = np.array([143.2,148.8,81,108])\n",
    "X = np.linalg.inv(A).dot(B)\n",
    "print(X)"
   ]
  },
  {
   "cell_type": "code",
   "execution_count": 83,
   "metadata": {
    "colab": {
     "base_uri": "https://localhost:8080/"
    },
    "id": "ACsr_RcZ2_KZ",
    "outputId": "ac5e8987-a6df-4e4c-9643-f7ec53b5bb10"
   },
   "outputs": [
    {
     "name": "stdout",
     "output_type": "stream",
     "text": [
      "[ 0.2 -0.8  0.5]\n"
     ]
    }
   ],
   "source": [
    "# 5(d)\n",
    "A = np.array([[(1/2),(-3/7),(2/9)], [(2/3),(4/9),(-2/5)], [(4/5),(-1/8),(4/3)]])\n",
    "B = np.array([(349/630),(-19/45),(139/150)])\n",
    "X = np.linalg.inv(A).dot(B)\n",
    "print(X)"
   ]
  },
  {
   "cell_type": "code",
   "execution_count": 84,
   "metadata": {
    "colab": {
     "base_uri": "https://localhost:8080/"
    },
    "id": "Cx6rDvjH3i9D",
    "outputId": "63b9848a-b94a-43b4-be45-8b2b3ffffa99"
   },
   "outputs": [
    {
     "name": "stdout",
     "output_type": "stream",
     "text": [
      "[  6.88131073 163.31110688 210.29148409  59.29129358]\n"
     ]
    }
   ],
   "source": [
    "# 5(e)\n",
    "A = np.array([[(1/8),(1/7),(-1/6),(1/5)], [(1/7),(-1/6),(1/5),(-1/4)], [(1/6),(1/5),(-1/4),(1/3)], [(1/5),(-1/4),(1/3),(-1/2)]])\n",
    "B = np.array([1,1,1,1])\n",
    "X = np.linalg.inv(A).dot(B)\n",
    "print(X)"
   ]
  },
  {
   "cell_type": "code",
   "execution_count": 88,
   "metadata": {
    "colab": {
     "base_uri": "https://localhost:8080/"
    },
    "id": "zp9GRu3v4Ixy",
    "outputId": "08f1fa3d-4347-4815-c8b2-c348919d4330"
   },
   "outputs": [
    {
     "name": "stdout",
     "output_type": "stream",
     "text": [
      "price price unit of potato : 1.6666666666666679\n",
      "price price unit of tomato : 8.333333333333332\n"
     ]
    }
   ],
   "source": [
    "# 6 \n",
    "# equation 1 : 20x + 10y = 175 \n",
    "# equation 2 : 17x + 22y = 200 \n",
    "A = np.array([[20,17],[10,22]])\n",
    "B = np.array([175,200])\n",
    "X = np.linalg.inv(A).dot(B)\n",
    "print('price price unit of potato :',X[0])\n",
    "print('price price unit of tomato :',X[1])"
   ]
  }
 ],
 "metadata": {
  "colab": {
   "name": "21101298_ANIKA ISLAM_07_Lab2",
   "provenance": []
  },
  "kernelspec": {
   "display_name": "Python 3",
   "language": "python",
   "name": "python3"
  },
  "language_info": {
   "codemirror_mode": {
    "name": "ipython",
    "version": 3
   },
   "file_extension": ".py",
   "mimetype": "text/x-python",
   "name": "python",
   "nbconvert_exporter": "python",
   "pygments_lexer": "ipython3",
   "version": "3.8.8"
  }
 },
 "nbformat": 4,
 "nbformat_minor": 1
}
