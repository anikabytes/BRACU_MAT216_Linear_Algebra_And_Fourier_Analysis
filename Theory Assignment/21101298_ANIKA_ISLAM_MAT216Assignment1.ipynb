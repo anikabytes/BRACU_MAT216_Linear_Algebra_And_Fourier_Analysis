{
  "nbformat": 4,
  "nbformat_minor": 0,
  "metadata": {
    "colab": {
      "provenance": []
    },
    "kernelspec": {
      "name": "python3",
      "display_name": "Python 3"
    },
    "language_info": {
      "name": "python"
    }
  },
  "cells": [
    {
      "cell_type": "markdown",
      "source": [
        "\n",
        "MAT216 ASSIGNMENT 1 \n",
        "---\n",
        "\n",
        "\n",
        "NAME : ANIKA ISLAM \n",
        "\n",
        "ID : 21101298 \n",
        "\n",
        "SECTION : 07 "
      ],
      "metadata": {
        "id": "4BSQ7y1H-tk5"
      }
    },
    {
      "cell_type": "code",
      "execution_count": null,
      "metadata": {
        "colab": {
          "base_uri": "https://localhost:8080/"
        },
        "id": "ayEQk4PTIte7",
        "outputId": "8499cb0a-0221-4aa1-d0b9-07f4c8bd56a8"
      },
      "outputs": [
        {
          "output_type": "stream",
          "name": "stdout",
          "text": [
            "enter equations:2x+3y+4z=16\n",
            "enter equations:x-y+z=1\n",
            "enter equations:2x+6y+z=-3\n",
            "[[2, 3, 4, 16]\n",
            "[0.0, -2.5, -1.0, -7.0]\n",
            "[0.0, 0.0, -4.2, -27.4]]\n",
            "(x,y,z) = (-5.333333333333332,0.19047619047619085,6.523809523809523)\n"
          ]
        }
      ],
      "source": [
        "# User Input \n",
        "eqn1_m = []\n",
        "for i in range(0,3) : # taking 3 equations from the user and splitting the variables \n",
        "    eqn1 = input('enter equations:')\n",
        "\n",
        "    eqn1 = eqn1.split('x')\n",
        "    if eqn1[0] == '+' or eqn1[0] == '-' or eqn1[0] == '':\n",
        "        eqn1[0] += '1'\n",
        "        eqn1_m.append(eqn1[0])\n",
        "    else : \n",
        "        eqn1_m.append(eqn1[0])\n",
        "\n",
        "    eqn1[1] = eqn1[1].split('y')\n",
        "    if eqn1[1][0] == '+' or  eqn1[1][0] == '-' or eqn1[1][0] == '' :\n",
        "        eqn1[1][0] += '1'\n",
        "        eqn1_m.append(eqn1[1][0]) \n",
        "    else : \n",
        "        eqn1_m.append(eqn1[1][0]) \n",
        "\n",
        "    eqn1[1][1] = eqn1[1][1].split('z')\n",
        "    if eqn1[1][1][0] == '+' or eqn1[1][1][0] == '-' or eqn1[1][1][0] == '':\n",
        "        eqn1[1][1][0] += '1'\n",
        "        eqn1_m.append(eqn1[1][1][0])\n",
        "    else :\n",
        "        eqn1_m.append(eqn1[1][1][0])\n",
        "\n",
        "    eqn1[1][1][1] = eqn1[1][1][1].split('=')\n",
        "    eqn1_m.append(eqn1[1][1][1][1])\n",
        "\n",
        "mat1 = []\n",
        "mat2 = []\n",
        "mat3 = []\n",
        "\n",
        "for j in range(0,len(eqn1_m)) : # taking all the 3 lists into one list \n",
        "\n",
        "    eqn1_m[j] = int(eqn1_m[j])\n",
        "\n",
        "    if 0 <= j <= 3 :\n",
        "        mat1.append(eqn1_m[j]) \n",
        "    elif 4 <= j <= 7 :\n",
        "        mat2.append(eqn1_m[j])\n",
        "    else : \n",
        "        mat3.append(eqn1_m[j])\n",
        "\n",
        "mat = [mat1,mat2,mat3]\n",
        "\n",
        "if len(mat1) == len(mat2) and len(mat2) == len(mat3) :\n",
        "    leng = len(mat1)\n",
        "\n",
        "\n",
        "# Gaussian Elimination \n",
        "for loop1 in range(0,len(mat)) : # checking for pivot \n",
        "    if mat[loop1][loop1] == 0 :\n",
        "         continue  \n",
        "    else :\n",
        "        pivot = mat[loop1][loop1]  \n",
        "    for loop2 in range(loop1+1,len(mat)) : # calculating the ratio for forming an upward triangle with non-zero values \n",
        "        ratio = mat[loop2][loop1]/pivot\n",
        "        for loop3 in range(0,leng): # using the ratio to form the triangle \n",
        "            mat[loop2][loop3] = mat[loop2][loop3] - ratio * mat[loop1][loop3] \n",
        "\n",
        "\n",
        "# Backward Substitution \n",
        "val1 = mat[2][3]/mat[2][2]\n",
        "val2 = (mat[1][3] - (mat[1][2]*val1))/mat[1][1]\n",
        "val3 = (mat[0][3] - (mat[0][2]*val1) - (mat[0][1]*val2))/mat[0][0]\n",
        "\n",
        "\n",
        "# Answer \n",
        "vals = ''\n",
        "vals = '(x,y,z) = ' + '('+str(val3) + ',' + str(val2) + ',' + str(val1) + ')'\n",
        "matrix = '['\n",
        "for i in range(0,len(mat)) :\n",
        "    if i == len(mat) - 1 :\n",
        "        matrix += str(mat[i]) + ']'\n",
        "    else :\n",
        "        matrix += str(mat[i]) + '\\n'\n",
        "\n",
        "print(matrix)\n",
        "print(vals)"
      ]
    }
  ]
}